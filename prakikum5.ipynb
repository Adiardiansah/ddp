{
  "nbformat": 4,
  "nbformat_minor": 0,
  "metadata": {
    "colab": {
      "provenance": [],
      "authorship_tag": "ABX9TyOYzHnkse9TWsApZV7fenuR",
      "include_colab_link": true
    },
    "kernelspec": {
      "name": "python3",
      "display_name": "Python 3"
    },
    "language_info": {
      "name": "python"
    }
  },
  "cells": [
    {
      "cell_type": "markdown",
      "metadata": {
        "id": "view-in-github",
        "colab_type": "text"
      },
      "source": [
        "<a href=\"https://colab.research.google.com/github/Adiardiansah/ddp/blob/main/prakikum5.ipynb\" target=\"_parent\"><img src=\"https://colab.research.google.com/assets/colab-badge.svg\" alt=\"Open In Colab\"/></a>"
      ]
    },
    {
      "cell_type": "code",
      "source": [
        "#Soal Praktikum 5\n",
        "# 1. Buat variabel list dengan value: [namaKendaraan, JenisKendaraan, ccKendaraan, warna kendaraan, roda kendaraan]\n",
        "# tambahkan dari list tersebut di belakang dengan value : [harga kendaraan, tipe kendaraan]\n",
        "# tambahkan setelah jenis kendaraan dengan value [merk kendaraan]\n",
        "\n",
        "kendaraan = [\"Vario Led New\", \"Motor\", \"150CC\", \"Custom\", \"roda dua\"]\n",
        "kendaraan.append(\"Second hand Rp. 20.000.000\")\n",
        "kendaraan.insert(2, \"Honda Matic\")\n",
        "print(kendaraan)\n",
        "\n",
        "\n",
        "# 2. Buat program python dengan match case untuk menghitung luas bangun datar :\n",
        "# jika pilih 1, maka menghitung luas persegi\n",
        "# jika pilih 2, maka menghitung luas lingkaran\n",
        "# jika pilih 3, maka menghitung luas segitiga\n",
        "# Kalau pilihannya tidak ada maka ada keterangan : salah pilih\n",
        "\n",
        "pilihan = int(input(\"\"\"\n",
        "𝔰𝔦𝔩𝔞𝔥𝔨𝔞𝔫 𝔭𝔦𝔩𝔦𝔥 𝔪𝔢𝔫𝔲 𝔶𝔞𝔫𝔤 𝔡𝔦 𝔦𝔫𝔤𝔦𝔫𝔨𝔞𝔫\n",
        "𝔵𝔵𝔵𝔵𝔵𝔵𝔵𝔵𝔵𝔵𝔵𝔵𝔵𝔵𝔵𝔵𝔵𝔵𝔵𝔵𝔵𝔵𝔵𝔵𝔵𝔵𝔵𝔵𝔵𝔵𝔵𝔵𝔵𝔵𝔵𝔵\n",
        "𝔵       1.𝔏𝔲𝔞𝔰 𝔭𝔢𝔯𝔰𝔢𝔤𝔦\n",
        "𝔵       2.𝔏𝔲𝔞𝔰 𝔩𝔦𝔫𝔤𝔨𝔞𝔯𝔞𝔫\n",
        "𝔵       3.𝔏𝔲𝔞𝔰 𝔰𝔢𝔤𝔦𝔱𝔦𝔤𝔞\n",
        "𝔵𝔵𝔵𝔵𝔵𝔵𝔵𝔵𝔵𝔵𝔵𝔵𝔵𝔵𝔵𝔵𝔵𝔵𝔵𝔵𝔵𝔵𝔵𝔵𝔵𝔵𝔵𝔵𝔵𝔵𝔵𝔵𝔵𝔵𝔵𝔵\n",
        "𝔎𝔦𝔯𝔦𝔪𝔨𝔞𝔫 𝔥𝔞𝔫𝔶𝔞 𝔞𝔫𝔤𝔨𝔞 𝔰𝔞𝔧𝔞,\n",
        "jawaban = \"\"\"))\n",
        "\n",
        "match pilihan:\n",
        "    case 1:\n",
        "        sisi = float(input(\"masukan panjang sisi persegi:\"))\n",
        "        luas_persegi = sisi * sisi\n",
        "        print(\"luas persegi adalah:\", luas_persegi)\n",
        "    case 2:\n",
        "        jari_jari = float(input(\"masukan jari-jari lingkaran:\"))\n",
        "        luas_lingkaran = 3.14 * jari_jari * jari_jari\n",
        "        print(\"luas lingkaran adalah:\", luas_lingkaran)\n",
        "    case 3:\n",
        "        alas = float(input(\"masukan alas segitiga:\"))\n",
        "        tinggi = float(input(\"masukan tinggi segitiga:\"))\n",
        "        luas_segitiga = 0.5 * alas * tinggi\n",
        "        print(\"luas segitiga adalah:\", luas_segitiga)\n",
        "    case _:\n",
        "        print(\"salah pilih\")\n"
      ],
      "metadata": {
        "colab": {
          "base_uri": "https://localhost:8080/"
        },
        "id": "bHSAelGM1Uxt",
        "outputId": "edc833f1-8c11-4327-8e4b-42eb509bf8ee"
      },
      "execution_count": 14,
      "outputs": [
        {
          "output_type": "stream",
          "name": "stdout",
          "text": [
            "['Vario Led New', 'Motor', 'Honda Matic', '150CC', 'Custom', 'roda dua', 'Second hand Rp. 20.000.000']\n",
            "\n",
            "𝔰𝔦𝔩𝔞𝔥𝔨𝔞𝔫 𝔭𝔦𝔩𝔦𝔥 𝔪𝔢𝔫𝔲 𝔶𝔞𝔫𝔤 𝔡𝔦 𝔦𝔫𝔤𝔦𝔫𝔨𝔞𝔫\n",
            "𝔵𝔵𝔵𝔵𝔵𝔵𝔵𝔵𝔵𝔵𝔵𝔵𝔵𝔵𝔵𝔵𝔵𝔵𝔵𝔵𝔵𝔵𝔵𝔵𝔵𝔵𝔵𝔵𝔵𝔵𝔵𝔵𝔵𝔵𝔵𝔵\n",
            "𝔵       1.𝔏𝔲𝔞𝔰 𝔭𝔢𝔯𝔰𝔢𝔤𝔦\n",
            "𝔵       2.𝔏𝔲𝔞𝔰 𝔩𝔦𝔫𝔤𝔨𝔞𝔯𝔞𝔫\n",
            "𝔵       3.𝔏𝔲𝔞𝔰 𝔰𝔢𝔤𝔦𝔱𝔦𝔤𝔞\n",
            "𝔵𝔵𝔵𝔵𝔵𝔵𝔵𝔵𝔵𝔵𝔵𝔵𝔵𝔵𝔵𝔵𝔵𝔵𝔵𝔵𝔵𝔵𝔵𝔵𝔵𝔵𝔵𝔵𝔵𝔵𝔵𝔵𝔵𝔵𝔵𝔵\n",
            "𝔎𝔦𝔯𝔦𝔪𝔨𝔞𝔫 𝔥𝔞𝔫𝔶𝔞 𝔞𝔫𝔤𝔨𝔞 𝔰𝔞𝔧𝔞,\n",
            "jawaban = 3\n",
            "masukan alas segitiga:300\n",
            "masukan tinggi segitiga:20\n",
            "luas segitiga adalah: 3000.0\n"
          ]
        }
      ]
    }
  ]
}
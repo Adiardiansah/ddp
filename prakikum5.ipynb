{
  "nbformat": 4,
  "nbformat_minor": 0,
  "metadata": {
    "colab": {
      "provenance": [],
      "authorship_tag": "ABX9TyOxhmPwrYpJ9ZCpATh+61+W",
      "include_colab_link": true
    },
    "kernelspec": {
      "name": "python3",
      "display_name": "Python 3"
    },
    "language_info": {
      "name": "python"
    }
  },
  "cells": [
    {
      "cell_type": "markdown",
      "metadata": {
        "id": "view-in-github",
        "colab_type": "text"
      },
      "source": [
        "<a href=\"https://colab.research.google.com/github/Adiardiansah/ddp/blob/main/prakikum5.ipynb\" target=\"_parent\"><img src=\"https://colab.research.google.com/assets/colab-badge.svg\" alt=\"Open In Colab\"/></a>"
      ]
    },
    {
      "cell_type": "code",
      "source": [
        "#Soal Praktikum 5\n",
        "# 1. Buat variabel list dengan value: [namaKendaraan, JenisKendaraan, ccKendaraan, warna kendaraan, roda kendaraan]\n",
        "# tambahkan dari list tersebut di belakang dengan value : [harga kendaraan, tipe kendaraan]\n",
        "# tambahkan setelah jenis kendaraan dengan value [merk kendaraan]\n",
        "kendaraan = [\"Honda\", \"Vario Led New\", \"150CC\", \"Custom\", \"roda dua\"]\n",
        "kendaraan.append(\"Second hand Rp. 20.000.000\")\n",
        "kendaraan.insert(2, \"Honda\")\n",
        "print(kendaraan)\n",
        "\n",
        "\n",
        "\n",
        "\n",
        "\n",
        "# 2. Buat program python dengan match case untuk menghitung luas bangun datar :\n",
        "# jika pilih 1, maka menghitung luas persegi\n",
        "# jika pilih 2, maka menghitung luas lingkaran\n",
        "# jika pilih 3, maka menghitung luas segitiga\n",
        "# Kalau pilihannya tidak ada maka ada keterangan : salah pilih\n"
      ],
      "metadata": {
        "colab": {
          "base_uri": "https://localhost:8080/"
        },
        "id": "bHSAelGM1Uxt",
        "outputId": "cf1601b8-2420-4e05-da69-fc557a867502"
      },
      "execution_count": 2,
      "outputs": [
        {
          "output_type": "stream",
          "name": "stdout",
          "text": [
            "['Honda', 'Vario Led New', 'Honda', '150CC', 'Custom', 'roda dua', 'Second hand Rp. 20.000.000']\n"
          ]
        }
      ]
    }
  ]
}